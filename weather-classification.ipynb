{
 "cells": [
  {
   "cell_type": "markdown",
   "id": "8f8d277a",
   "metadata": {},
   "source": [
    "**Problem Definition**\n",
    "\n",
    "Classification of the weather image into one of the following classes\n",
    "\n",
    "1. Sunrise\n",
    "2. Shine\n",
    "3. Rain\n",
    "4. Cloudy\n",
    "\n",
    "**Data**\n",
    "\n",
    "[Dataset](https://www.kaggle.com/datasets/pratik2901/multiclass-weather-dataset)\n",
    "\n",
    "1. The dataset contains images of corresponding to the Sunrise, Shine, Rain, Cloudy weather conditions\n",
    "2. Class Distribution\n",
    "    1. Sunrise - 357 \n",
    "    2. Shine - 253\n",
    "    3. Rain - 215\n",
    "    4. Clody - 300\n",
    "3. The updated folder structure of the dataset facilitate the data load prodecure\n",
    "\n",
    "Data Publication\n",
    "1. The dataset was published on [Mendeley Data](https://data.mendeley.com/datasets/4drtyfjtfy/1)\n",
    "2. Cite: Ajayi, Gbeminiyi (2018), Multi-class Weather Dataset for Image Classification, Mendeley Data, v1\n",
    "3. [DOI](http://dx.doi.org/10.17632/4drtyfjtfy.1)\n",
    "4. Published: 2018-09-13\n",
    "5. Institutions: University of South Africa - Science Campus\n",
    "6. Licence: [CC BY 4.0](https://creativecommons.org/licenses/by/4.0/)\n",
    "\n",
    "\n",
    "**Evaluation**\n",
    "\n",
    "Accuracy\n",
    "\n",
    "**Modelling**\n",
    "\n",
    "Fully Convolutional Network (FCN)"
   ]
  }
 ],
 "metadata": {
  "kernelspec": {
   "display_name": "Python 3 (ipykernel)",
   "language": "python",
   "name": "python3"
  },
  "language_info": {
   "codemirror_mode": {
    "name": "ipython",
    "version": 3
   },
   "file_extension": ".py",
   "mimetype": "text/x-python",
   "name": "python",
   "nbconvert_exporter": "python",
   "pygments_lexer": "ipython3",
   "version": "3.9.12"
  }
 },
 "nbformat": 4,
 "nbformat_minor": 5
}
