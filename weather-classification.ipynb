{
 "cells": [
  {
   "cell_type": "markdown",
   "id": "8f8d277a",
   "metadata": {},
   "source": [
    "**Problem Definition**\n",
    "\n",
    "Classification of the weather image into one of the following classes\n",
    "\n",
    "1. Sunrise\n",
    "2. Shine\n",
    "3. Rain\n",
    "4. Cloudy\n",
    "\n",
    "**Data**\n",
    "\n",
    "[Dataset](https://www.kaggle.com/datasets/pratik2901/multiclass-weather-dataset)\n",
    "\n",
    "1. The dataset contains images of corresponding to the Sunrise, Shine, Rain, Cloudy weather conditions\n",
    "2. Class Distribution\n",
    "    1. Sunrise - 357 \n",
    "    2. Shine - 253\n",
    "    3. Rain - 215\n",
    "    4. Clody - 300\n",
    "3. The updated folder structure of the dataset facilitate the data load prodecure\n",
    "\n",
    "Data Publication\n",
    "1. The dataset was published on [Mendeley Data](https://data.mendeley.com/datasets/4drtyfjtfy/1)\n",
    "2. Cite: Ajayi, Gbeminiyi (2018), Multi-class Weather Dataset for Image Classification, Mendeley Data, v1\n",
    "3. [DOI](http://dx.doi.org/10.17632/4drtyfjtfy.1)\n",
    "4. Published: 2018-09-13\n",
    "5. Institutions: University of South Africa - Science Campus\n",
    "6. Licence: [CC BY 4.0](https://creativecommons.org/licenses/by/4.0/)\n",
    "\n",
    "\n",
    "**Evaluation**\n",
    "\n",
    "Accuracy\n",
    "\n",
    "**Modelling**\n",
    "\n",
    "Fully Convolutional Network (FCN)"
   ]
  },
  {
   "cell_type": "code",
   "execution_count": 1,
   "id": "4a921a56",
   "metadata": {},
   "outputs": [],
   "source": [
    "# Importing necessary libraries\n",
    "\n",
    "import numpy as np\n",
    "import os\n",
    "import shutil"
   ]
  },
  {
   "cell_type": "code",
   "execution_count": 21,
   "id": "cf209a1a",
   "metadata": {},
   "outputs": [],
   "source": [
    "# Splitting the data into train(80%), validation(10%), test(10%)\n",
    "\n",
    "source_path = 'data/Weather'\n",
    "classes = ['Cloudy', 'Rain', 'Shine', 'Sunrise']\n",
    "\n",
    "for weather_class in classes:\n",
    "    os.makedirs(source_path + '/Train/' + weather_class)\n",
    "    os.makedirs(source_path + '/Val/' + weather_class)\n",
    "    os.makedirs(source_path + '/Test/' + weather_class)\n",
    "    \n",
    "    file_names = os.listdir(source_path + '/' + weather_class)\n",
    "    np.random.shuffle(file_names)\n",
    "    \n",
    "    train_file_names, val_file_names, test_file_names = np.split(file_names, [int(len(file_names) * (0.8)), int(len(file_names) * (0.9))])\n",
    "    \n",
    "    train_file_names = [source_path + '/' + weather_class + '/' + name for name in train_file_names.tolist()]\n",
    "    val_file_names = [source_path + '/' + weather_class + '/' + name for name in val_file_names.tolist()]\n",
    "    test_file_names = [source_path + '/' + weather_class + '/' + name for name in test_file_names.tolist()]\n",
    "    \n",
    "    \n",
    "    for name in train_file_names:\n",
    "        shutil.move(name, source_path + '/train/' + weather_class)\n",
    "        \n",
    "    for name in val_file_names:\n",
    "        shutil.move(name, source_path + '/val/' + weather_class)\n",
    "        \n",
    "    for name in test_file_names:\n",
    "        shutil.move(name, source_path + '/test/' + weather_class)\n",
    "        \n",
    "    shutil.rmtree(source_path + '/' + weather_class)\n"
   ]
  }
 ],
 "metadata": {
  "kernelspec": {
   "display_name": "Python 3 (ipykernel)",
   "language": "python",
   "name": "python3"
  },
  "language_info": {
   "codemirror_mode": {
    "name": "ipython",
    "version": 3
   },
   "file_extension": ".py",
   "mimetype": "text/x-python",
   "name": "python",
   "nbconvert_exporter": "python",
   "pygments_lexer": "ipython3",
   "version": "3.9.12"
  }
 },
 "nbformat": 4,
 "nbformat_minor": 5
}
